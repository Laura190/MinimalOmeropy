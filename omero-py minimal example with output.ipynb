{
 "cells": [
  {
   "cell_type": "markdown",
   "id": "primary-philippines",
   "metadata": {},
   "source": [
    "# Minimal example using omero-py\n",
    "#### Laura Cooper 26/01/2021\n",
    "\n",
    "## Import packages"
   ]
  },
  {
   "cell_type": "code",
   "execution_count": 1,
   "id": "agricultural-cycle",
   "metadata": {},
   "outputs": [],
   "source": [
    "from omero.gateway import BlitzGateway\n",
    "import getpass\n",
    "import numpy as np\n",
    "from scipy import fft, ndimage\n",
    "import matplotlib.pyplot as plt"
   ]
  },
  {
   "cell_type": "markdown",
   "id": "least-detroit",
   "metadata": {},
   "source": [
    "## Helper functions\n",
    "\n",
    "Many functions and code snipets can be found on the OMERO site \\\n",
    "https://docs.openmicroscopy.org/omero/latest/developers/Python.html"
   ]
  },
  {
   "cell_type": "code",
   "execution_count": 2,
   "id": "cognitive-candle",
   "metadata": {},
   "outputs": [],
   "source": [
    "def print_obj(obj, indent=0):\n",
    "    \"\"\"\n",
    "    Helper method to display info about OMERO objects.\n",
    "    Not all objects will have a \"name\" or owner field.\n",
    "    \"\"\"\n",
    "    print(\"\"\"%s%s:%s  Name:\"%s\" (owner=%s)\"\"\" % (\n",
    "        \" \" * indent,\n",
    "        obj.OMERO_CLASS,\n",
    "        obj.getId(),\n",
    "        obj.getName(),\n",
    "        obj.getOwnerOmeName()))"
   ]
  },
  {
   "cell_type": "markdown",
   "id": "driven-uniform",
   "metadata": {},
   "source": [
    "## Connect to OMERO - Must be connected to the VPN"
   ]
  },
  {
   "cell_type": "code",
   "execution_count": 3,
   "id": "offshore-cement",
   "metadata": {},
   "outputs": [
    {
     "name": "stdout",
     "output_type": "stream",
     "text": [
      "Username: u1675160\n",
      "Password: ········\n"
     ]
    },
    {
     "data": {
      "text/plain": [
       "True"
      ]
     },
     "execution_count": 3,
     "metadata": {},
     "output_type": "execute_result"
    }
   ],
   "source": [
    "username = input('Username: ') #Request user to enter OMERO username\n",
    "password = getpass.getpass(prompt='Password: ') #Request user to enter OMERO password\n",
    "conn = BlitzGateway(username, password, host='camdu.warwick.ac.uk', port=4064) #Use details to connect to OMERO\n",
    "conn.connect() #Returns True when connected"
   ]
  },
  {
   "cell_type": "markdown",
   "id": "revolutionary-example",
   "metadata": {},
   "source": [
    "## Check your ID and Default Group"
   ]
  },
  {
   "cell_type": "code",
   "execution_count": 4,
   "id": "crucial-asthma",
   "metadata": {},
   "outputs": [
    {
     "name": "stdout",
     "output_type": "stream",
     "text": [
      "My user ID is 3052\n",
      "My default group is camdu with ID 153\n"
     ]
    }
   ],
   "source": [
    "my_id = conn.getUser().getId()\n",
    "default_group_name = conn.getEventContext().groupName\n",
    "default_group_id = conn.getEventContext().groupId\n",
    "print(\"My user ID is\", my_id)\n",
    "print(\"My default group is %s with ID %s\" % (default_group_name, default_group_id))"
   ]
  },
  {
   "cell_type": "markdown",
   "id": "tender-writer",
   "metadata": {},
   "source": [
    "## List Datasets and Images"
   ]
  },
  {
   "cell_type": "code",
   "execution_count": 5,
   "id": "modified-boating",
   "metadata": {},
   "outputs": [
    {
     "name": "stdout",
     "output_type": "stream",
     "text": [
      "\n",
      "List Datasets: \n",
      " ==================================================\n",
      "Dataset:13801  Name:\"ExampleData\" (owner=u1675160)\n",
      "Dataset:13852  Name:\"From_ROIs\" (owner=u1675160)\n"
     ]
    }
   ],
   "source": [
    "print(\"\\nList Datasets: \\n\", \"=\" * 50)\n",
    "datasets = conn.getObjects(\"Dataset\", opts={'owner': my_id}) #list all of my datasets \n",
    "for obj in datasets:\n",
    "    print_obj(obj)"
   ]
  },
  {
   "cell_type": "markdown",
   "id": "alive-married",
   "metadata": {},
   "source": [
    "You can do the same thing for other object types: project, dataset, image, screen, plate, plateacquisition, acquisition, well, roi, shape, experimenter, experimentergroup, originalfile, fileset, annotation.\n",
    "\n",
    "NB. getObjects() returns a generator not a list"
   ]
  },
  {
   "cell_type": "code",
   "execution_count": 6,
   "id": "hairy-equivalent",
   "metadata": {},
   "outputs": [
    {
     "name": "stdout",
     "output_type": "stream",
     "text": [
      "\n",
      "List Images: \n",
      " ==================================================\n",
      "Image:314647  Name:\"combinedImage\" (owner=u1675160)\n",
      "Image:312306  Name:\"scram_01.r3d_D3D_PRJ.dv\" (owner=u1675160)\n",
      "Image:312305  Name:\"scram_01.r3d\" (owner=u1675160)\n",
      "Image:312304  Name:\"IN_02.r3d_D3D_PRJ.dv\" (owner=u1675160)\n",
      "Image:312303  Name:\"IN_02.r3d_D3D.dv\" (owner=u1675160)\n",
      "Image:312302  Name:\"IN_02.r3d.dv\" (owner=u1675160)\n"
     ]
    }
   ],
   "source": [
    "print(\"\\nList Images: \\n\", \"=\" * 50)\n",
    "images = conn.getObjects(\"Image\", opts={'owner': my_id, 'dataset': 13801}) #list all image in dataset\n",
    "for obj in images:\n",
    "    print_obj(obj)"
   ]
  },
  {
   "cell_type": "markdown",
   "id": "ambient-namibia",
   "metadata": {},
   "source": [
    "## View or Save an image"
   ]
  },
  {
   "cell_type": "code",
   "execution_count": 7,
   "id": "casual-vegetable",
   "metadata": {},
   "outputs": [
    {
     "name": "stdout",
     "output_type": "stream",
     "text": [
      "scram_01.r3d \n",
      "Image dimensions [x,y,z,c,t]: [512 512 40 4 1]\n"
     ]
    }
   ],
   "source": [
    "image = conn.getObject(\"Image\", '312305')\n",
    "print(image.getName(), image.getDescription())\n",
    "# Retrieve information about an image.\n",
    "print(\"Image dimensions [x,y,z,c,t]: [%s %s %s %s %s]\" % (\n",
    "    image.getSizeX(),\n",
    "    image.getSizeY(),\n",
    "    image.getSizeZ(),\n",
    "    image.getSizeC(),\n",
    "    image.getSizeT()))"
   ]
  },
  {
   "cell_type": "code",
   "execution_count": 8,
   "id": "purple-timeline",
   "metadata": {},
   "outputs": [],
   "source": [
    "z = image.getSizeZ() / 2 #Middle z plane\n",
    "t = 0 #First time point\n",
    "rendered_image=image.renderImage(z,t) #Rendering settings from OMERO.web\n",
    "rendered_image.show() #Opens pop up\n",
    "rendered_image.save('my_image.png') #Save image to current folder"
   ]
  },
  {
   "cell_type": "markdown",
   "id": "demanding-detective",
   "metadata": {},
   "source": [
    "## Import Image as Numpy Array\n",
    "\n",
    "Helper function"
   ]
  },
  {
   "cell_type": "code",
   "execution_count": 9,
   "id": "ecological-atmosphere",
   "metadata": {},
   "outputs": [],
   "source": [
    "def load_plane(image,z,c,t):\n",
    "    \"\"\"\n",
    "    Load a 2D-plane as a numpy array\n",
    "    param image: The image\n",
    "    param z: z plane\n",
    "    param c: channel\n",
    "    param t: time point\n",
    "    \"\"\"\n",
    "    pixels = image.getPrimaryPixels()\n",
    "    return pixels.getPlane(z, c, t)"
   ]
  },
  {
   "cell_type": "code",
   "execution_count": 10,
   "id": "neural-vitamin",
   "metadata": {},
   "outputs": [
    {
     "data": {
      "text/plain": [
       "<matplotlib.image.AxesImage at 0x7f7118058f60>"
      ]
     },
     "execution_count": 10,
     "metadata": {},
     "output_type": "execute_result"
    },
    {
     "data": {
      "image/png": "[encoded data removed]",
      "text/plain": [
       "<Figure size 432x288 with 1 Axes>"
      ]
     },
     "metadata": {
      "needs_background": "light"
     },
     "output_type": "display_data"
    }
   ],
   "source": [
    "c=1\n",
    "plane=load_plane(image,z,c,t)\n",
    "plt.imshow(plane)"
   ]
  },
  {
   "cell_type": "code",
   "execution_count": 11,
   "id": "domestic-resident",
   "metadata": {},
   "outputs": [
    {
     "name": "stdout",
     "output_type": "stream",
     "text": [
      "\n",
      "Z stack of tiles:\n",
      "Tile: (0, 1, 0, (0, 0, 512, 512))  min: 27  max: 616  sum: 19701069\n",
      "Tile: (1, 1, 0, (0, 0, 512, 512))  min: 27  max: 604  sum: 19637544\n",
      "Tile: (2, 1, 0, (0, 0, 512, 512))  min: 26  max: 594  sum: 19592649\n",
      "Tile: (3, 1, 0, (0, 0, 512, 512))  min: 28  max: 585  sum: 19586735\n",
      "Tile: (4, 1, 0, (0, 0, 512, 512))  min: 27  max: 619  sum: 19586633\n",
      "Tile: (5, 1, 0, (0, 0, 512, 512))  min: 27  max: 731  sum: 19606016\n",
      "Tile: (6, 1, 0, (0, 0, 512, 512))  min: 27  max: 767  sum: 19636424\n",
      "Tile: (7, 1, 0, (0, 0, 512, 512))  min: 26  max: 744  sum: 19694993\n",
      "Tile: (8, 1, 0, (0, 0, 512, 512))  min: 26  max: 702  sum: 19731698\n",
      "Tile: (9, 1, 0, (0, 0, 512, 512))  min: 26  max: 659  sum: 19755707\n"
     ]
    }
   ],
   "source": [
    "tile = (0, 0, image.getSizeX(), image.getSizeY())     # x, y, width, height of tile\n",
    "# list of [ (0,0,0,(x,y,w,h)), (1,0,0,(x,y,w,h)), (2,0,0,(x,y,w,h))... ]\n",
    "zct_list = [(iz, c, t, tile) for iz in range(10)]\n",
    "pixels = image.getPrimaryPixels()\n",
    "print(\"\\nZ stack of tiles:\")\n",
    "planes = pixels.getTiles(zct_list)\n",
    "for i, p in enumerate(planes):\n",
    "    print(\"Tile:\", zct_list[i], \" min:\", p.min(),\\\n",
    "        \" max:\", p.max(), \" sum:\", p.sum())"
   ]
  },
  {
   "cell_type": "code",
   "execution_count": 12,
   "id": "deluxe-naples",
   "metadata": {},
   "outputs": [],
   "source": [
    "def get_z_stack(img, c=0, t=0):\n",
    "    \"\"\"\n",
    "    Convert OMERO image object to numpy array\n",
    "    Input: img  OMERO image object\n",
    "           c    number of colour channls\n",
    "           t    number of time steps\n",
    "    \"\"\"\n",
    "    zct_list = [(z, c, t) for z in range(img.getSizeZ())] #Set dimensions of image\n",
    "    pixels = img.getPrimaryPixels()\n",
    "    return np.array(list(pixels.getPlanes(zct_list))) #Read in data one plane at a time"
   ]
  },
  {
   "cell_type": "code",
   "execution_count": 13,
   "id": "english-capacity",
   "metadata": {},
   "outputs": [
    {
     "data": {
      "text/plain": [
       "array([[[41, 33, 32, ..., 35, 38, 32],\n",
       "        [35, 33, 34, ..., 34, 33, 31],\n",
       "        [42, 34, 35, ..., 34, 37, 33],\n",
       "        ...,\n",
       "        [39, 31, 35, ..., 36, 37, 32],\n",
       "        [37, 34, 32, ..., 38, 36, 33],\n",
       "        [38, 34, 34, ..., 34, 40, 31]],\n",
       "\n",
       "       [[38, 33, 37, ..., 34, 37, 32],\n",
       "        [38, 35, 36, ..., 35, 40, 35],\n",
       "        [35, 34, 35, ..., 31, 36, 31],\n",
       "        ...,\n",
       "        [38, 30, 36, ..., 39, 38, 36],\n",
       "        [38, 33, 40, ..., 38, 42, 37],\n",
       "        [38, 35, 35, ..., 37, 41, 38]],\n",
       "\n",
       "       [[37, 36, 35, ..., 33, 32, 34],\n",
       "        [36, 33, 31, ..., 35, 35, 32],\n",
       "        [38, 31, 34, ..., 35, 35, 32],\n",
       "        ...,\n",
       "        [40, 32, 32, ..., 38, 37, 35],\n",
       "        [35, 35, 32, ..., 39, 37, 33],\n",
       "        [37, 32, 37, ..., 36, 37, 38]],\n",
       "\n",
       "       ...,\n",
       "\n",
       "       [[33, 33, 33, ..., 33, 34, 32],\n",
       "        [40, 30, 33, ..., 31, 36, 32],\n",
       "        [38, 32, 33, ..., 30, 38, 32],\n",
       "        ...,\n",
       "        [42, 36, 33, ..., 37, 36, 36],\n",
       "        [41, 40, 37, ..., 36, 37, 35],\n",
       "        [41, 37, 36, ..., 34, 42, 35]],\n",
       "\n",
       "       [[34, 35, 33, ..., 34, 36, 34],\n",
       "        [35, 34, 34, ..., 33, 30, 30],\n",
       "        [33, 31, 31, ..., 35, 38, 31],\n",
       "        ...,\n",
       "        [41, 37, 38, ..., 35, 37, 34],\n",
       "        [43, 32, 37, ..., 36, 36, 34],\n",
       "        [41, 36, 37, ..., 38, 35, 31]],\n",
       "\n",
       "       [[41, 36, 35, ..., 33, 35, 32],\n",
       "        [37, 34, 37, ..., 33, 37, 33],\n",
       "        [41, 29, 34, ..., 33, 37, 32],\n",
       "        ...,\n",
       "        [38, 36, 36, ..., 37, 41, 32],\n",
       "        [43, 36, 36, ..., 37, 37, 34],\n",
       "        [41, 35, 38, ..., 36, 34, 31]]], dtype=int16)"
      ]
     },
     "execution_count": 13,
     "metadata": {},
     "output_type": "execute_result"
    }
   ],
   "source": [
    "stack = get_z_stack(image,c,t)\n",
    "stack"
   ]
  },
  {
   "cell_type": "markdown",
   "id": "progressive-roulette",
   "metadata": {},
   "source": [
    "Using getTiles or getPlanes returns a generator of data (not all the data in hand)"
   ]
  },
  {
   "cell_type": "markdown",
   "id": "expressed-rehabilitation",
   "metadata": {},
   "source": [
    "Use pixels.getPlanes() to import a hyperstack"
   ]
  }
 ],
 "metadata": {
  "kernelspec": {
   "display_name": "Python 3",
   "language": "python",
   "name": "python3"
  },
  "language_info": {
   "codemirror_mode": {
    "name": "ipython",
    "version": 3
   },
   "file_extension": ".py",
   "mimetype": "text/x-python",
   "name": "python",
   "nbconvert_exporter": "python",
   "pygments_lexer": "ipython3",
   "version": "3.6.12"
  }
 },
 "nbformat": 4,
 "nbformat_minor": 5
}
