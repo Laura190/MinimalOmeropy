{
 "cells": [
  {
   "cell_type": "markdown",
   "id": "primary-philippines",
   "metadata": {},
   "source": [
    "# Minimal example using omero-py\n",
    "#### Laura Cooper 26/01/2021\n",
    "\n",
    "## Import packages"
   ]
  },
  {
   "cell_type": "code",
   "execution_count": null,
   "id": "agricultural-cycle",
   "metadata": {},
   "outputs": [],
   "source": [
    "from omero.gateway import BlitzGateway\n",
    "import getpass\n",
    "import numpy as np\n",
    "import matplotlib.pyplot as plt"
   ]
  },
  {
   "cell_type": "markdown",
   "id": "least-detroit",
   "metadata": {},
   "source": [
    "## Helper functions\n",
    "\n",
    "Many functions and code snipets can be found on the OMERO site \\\n",
    "https://docs.openmicroscopy.org/omero/latest/developers/Python.html"
   ]
  },
  {
   "cell_type": "code",
   "execution_count": null,
   "id": "cognitive-candle",
   "metadata": {},
   "outputs": [],
   "source": [
    "def print_obj(obj, indent=0):\n",
    "    \"\"\"\n",
    "    Helper method to display info about OMERO objects.\n",
    "    Not all objects will have a \"name\" or owner field.\n",
    "    \"\"\"\n",
    "    print(\"\"\"%s%s:%s  Name:\"%s\" (owner=%s)\"\"\" % (\n",
    "        \" \" * indent,\n",
    "        obj.OMERO_CLASS,\n",
    "        obj.getId(),\n",
    "        obj.getName(),\n",
    "        obj.getOwnerOmeName()))"
   ]
  },
  {
   "cell_type": "markdown",
   "id": "driven-uniform",
   "metadata": {},
   "source": [
    "## Connect to OMERO - Must be connected to the VPN"
   ]
  },
  {
   "cell_type": "code",
   "execution_count": null,
   "id": "offshore-cement",
   "metadata": {},
   "outputs": [],
   "source": [
    "username = input('Username: ') #Request user to enter OMERO username\n",
    "password = getpass.getpass(prompt='Password: ') #Request user to enter OMERO password\n",
    "conn = BlitzGateway(username, password, host='camdu.warwick.ac.uk', port=4064) #Use details to connect to OMERO\n",
    "conn.connect() #Returns True when connected"
   ]
  },
  {
   "cell_type": "markdown",
   "id": "revolutionary-example",
   "metadata": {},
   "source": [
    "## Check your ID and Default Group"
   ]
  },
  {
   "cell_type": "code",
   "execution_count": null,
   "id": "crucial-asthma",
   "metadata": {},
   "outputs": [],
   "source": [
    "my_id = conn.getUser().getId()\n",
    "default_group_name = conn.getEventContext().groupName\n",
    "default_group_id = conn.getEventContext().groupId\n",
    "print(\"My user ID is\", my_id)\n",
    "print(\"My default group is %s with ID %s\" % (default_group_name, default_group_id))"
   ]
  },
  {
   "cell_type": "markdown",
   "id": "tender-writer",
   "metadata": {},
   "source": [
    "## List Datasets and Images"
   ]
  },
  {
   "cell_type": "code",
   "execution_count": null,
   "id": "modified-boating",
   "metadata": {},
   "outputs": [],
   "source": [
    "print(\"\\nList Datasets: \\n\", \"=\" * 50)\n",
    "datasets = conn.getObjects(\"Dataset\", opts={'owner': my_id}) #list all of my datasets \n",
    "for obj in datasets:\n",
    "    print_obj(obj)"
   ]
  },
  {
   "cell_type": "markdown",
   "id": "alive-married",
   "metadata": {},
   "source": [
    "You can do the same thing for other object types: project, dataset, image, screen, plate, plateacquisition, acquisition, well, roi, shape, experimenter, experimentergroup, originalfile, fileset, annotation.\n",
    "\n",
    "NB. getObjects() returns a generator not a list"
   ]
  },
  {
   "cell_type": "code",
   "execution_count": null,
   "id": "hairy-equivalent",
   "metadata": {},
   "outputs": [],
   "source": [
    "print(\"\\nList Images: \\n\", \"=\" * 50)\n",
    "images = conn.getObjects(\"Image\", opts={'owner': my_id, 'dataset': 13801}) #list all image in dataset\n",
    "for obj in images:\n",
    "    print_obj(obj)"
   ]
  },
  {
   "cell_type": "markdown",
   "id": "ambient-namibia",
   "metadata": {},
   "source": [
    "## View or Save an image"
   ]
  },
  {
   "cell_type": "code",
   "execution_count": null,
   "id": "casual-vegetable",
   "metadata": {},
   "outputs": [],
   "source": [
    "image = conn.getObject(\"Image\", '312305')\n",
    "print(image.getName(), image.getDescription())\n",
    "# Retrieve information about an image.\n",
    "print(\"Image dimensions [x,y,z,c,t]: [%s %s %s %s %s]\" % (\n",
    "    image.getSizeX(),\n",
    "    image.getSizeY(),\n",
    "    image.getSizeZ(),\n",
    "    image.getSizeC(),\n",
    "    image.getSizeT()))"
   ]
  },
  {
   "cell_type": "code",
   "execution_count": null,
   "id": "purple-timeline",
   "metadata": {},
   "outputs": [],
   "source": [
    "z = image.getSizeZ() / 2 #Middle z plane\n",
    "t = 0 #First time point\n",
    "rendered_image=image.renderImage(z,t) #Rendering settings from OMERO.web\n",
    "rendered_image.show() #Opens pop up\n",
    "rendered_image.save('my_image.png') #Save image to current folder"
   ]
  },
  {
   "cell_type": "markdown",
   "id": "demanding-detective",
   "metadata": {},
   "source": [
    "## Import Image as Numpy Array\n",
    "\n",
    "Helper function"
   ]
  },
  {
   "cell_type": "code",
   "execution_count": null,
   "id": "ecological-atmosphere",
   "metadata": {},
   "outputs": [],
   "source": [
    "def load_plane(image,z,c,t):\n",
    "    \"\"\"\n",
    "    Load a 2D-plane as a numpy array\n",
    "    param image: The image\n",
    "    param z: z plane\n",
    "    param c: channel\n",
    "    param t: time point\n",
    "    \"\"\"\n",
    "    pixels = image.getPrimaryPixels()\n",
    "    return pixels.getPlane(z, c, t)"
   ]
  },
  {
   "cell_type": "code",
   "execution_count": null,
   "id": "neural-vitamin",
   "metadata": {},
   "outputs": [],
   "source": [
    "c=1\n",
    "plane=load_plane(image,z,c,t)\n",
    "plt.imshow(plane)"
   ]
  },
  {
   "cell_type": "code",
   "execution_count": null,
   "id": "domestic-resident",
   "metadata": {},
   "outputs": [],
   "source": [
    "tile = (0, 0, image.getSizeX(), image.getSizeY())     # x, y, width, height of tile\n",
    "# list of [ (0,0,0,(x,y,w,h)), (1,0,0,(x,y,w,h)), (2,0,0,(x,y,w,h))... ]\n",
    "zct_list = [(iz, c, t, tile) for iz in range(10)]\n",
    "pixels = image.getPrimaryPixels()\n",
    "print(\"\\nZ stack of tiles:\")\n",
    "planes = pixels.getTiles(zct_list)\n",
    "for i, p in enumerate(planes):\n",
    "    print(\"Tile:\", zct_list[i], \" min:\", p.min(),\\\n",
    "        \" max:\", p.max(), \" sum:\", p.sum())"
   ]
  },
  {
   "cell_type": "code",
   "execution_count": null,
   "id": "deluxe-naples",
   "metadata": {},
   "outputs": [],
   "source": [
    "def get_z_stack(img, c=0, t=0):\n",
    "    \"\"\"\n",
    "    Convert OMERO image object to numpy array\n",
    "    Input: img  OMERO image object\n",
    "           c    number of colour channls\n",
    "           t    number of time steps\n",
    "    \"\"\"\n",
    "    zct_list = [(z, c, t) for z in range(img.getSizeZ())] #Set dimensions of image\n",
    "    pixels = img.getPrimaryPixels()\n",
    "    return np.array(list(pixels.getPlanes(zct_list))) #Read in data one plane at a time"
   ]
  },
  {
   "cell_type": "code",
   "execution_count": null,
   "id": "english-capacity",
   "metadata": {},
   "outputs": [],
   "source": [
    "stack = get_z_stack(image,c,t)\n",
    "stack"
   ]
  },
  {
   "cell_type": "markdown",
   "id": "progressive-roulette",
   "metadata": {},
   "source": [
    "Using getTiles or getPlanes returns a generator of data (not all the data in hand)"
   ]
  },
  {
   "cell_type": "markdown",
   "id": "expressed-rehabilitation",
   "metadata": {},
   "source": [
    "Use pixels.getPlanes() to import a hyperstack"
   ]
  }
 ],
 "metadata": {
  "kernelspec": {
   "display_name": "Python 3",
   "language": "python",
   "name": "python3"
  },
  "language_info": {
   "codemirror_mode": {
    "name": "ipython",
    "version": 3
   },
   "file_extension": ".py",
   "mimetype": "text/x-python",
   "name": "python",
   "nbconvert_exporter": "python",
   "pygments_lexer": "ipython3",
   "version": "3.6.12"
  }
 },
 "nbformat": 4,
 "nbformat_minor": 5
}
